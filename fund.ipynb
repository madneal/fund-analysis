#%%
import requests

fund_num = '161028,161725,000248,1660090,017140,095700,058273,200070,01550,161005,001630,690007,110003'
url = f"https://api.doctorxiong.club/v1/fund/detail/list?code={fund_num}&startDate=2022-08-01&endDate=2022-08-24"
res = requests.get(url).json()
data = res["data"]
for ele in data:
    print(ele["name"])
    netWorthData = ele["netWorthData"]
    for day_data in netWorthData:
        if len(day_data) > 2:
            print(f"{day_data[0]} 净值：{day_data[1]} 涨幅：{day_data[2]}")

# %%
